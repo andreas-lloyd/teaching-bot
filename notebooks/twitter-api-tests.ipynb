{
 "cells": [
  {
   "cell_type": "code",
   "execution_count": 1,
   "metadata": {},
   "outputs": [],
   "source": [
    "import json\n",
    "\n",
    "import tweepy"
   ]
  },
  {
   "cell_type": "code",
   "execution_count": 2,
   "metadata": {},
   "outputs": [],
   "source": [
    "with open('bot-creds.creds') as json_file:\n",
    "        credentials = json.load(json_file)"
   ]
  },
  {
   "cell_type": "code",
   "execution_count": 3,
   "metadata": {},
   "outputs": [],
   "source": [
    "auth = tweepy.OAuthHandler(credentials['api']['key'], credentials['api']['secret'])\n",
    "auth.set_access_token(credentials['access']['token'], credentials['access']['secret'])\n",
    "\n",
    "api = tweepy.API(auth, wait_on_rate_limit=True, wait_on_rate_limit_notify=True)"
   ]
  },
  {
   "cell_type": "code",
   "execution_count": 21,
   "metadata": {},
   "outputs": [],
   "source": [
    "all_messages = api.list_direct_messages()"
   ]
  },
  {
   "cell_type": "code",
   "execution_count": 22,
   "metadata": {},
   "outputs": [
    {
     "data": {
      "text/plain": [
       "3"
      ]
     },
     "execution_count": 22,
     "metadata": {},
     "output_type": "execute_result"
    }
   ],
   "source": [
    "len(all_messages)"
   ]
  },
  {
   "cell_type": "code",
   "execution_count": 15,
   "metadata": {},
   "outputs": [
    {
     "data": {
      "text/plain": [
       "DirectMessage(_api=<tweepy.api.API object at 0x7f49dd015278>, _json={'type': 'message_create', 'id': '1282424332904468485', 'created_timestamp': '1594588761913', 'message_create': {'target': {'recipient_id': '1234788665341161473'}, 'sender_id': '56980092', 'message_data': {'text': 'Hello there!', 'entities': {'hashtags': [], 'symbols': [], 'user_mentions': [], 'urls': []}}}}, type='message_create', id='1282424332904468485', created_timestamp='1594588761913', message_create={'target': {'recipient_id': '1234788665341161473'}, 'sender_id': '56980092', 'message_data': {'text': 'Hello there!', 'entities': {'hashtags': [], 'symbols': [], 'user_mentions': [], 'urls': []}}})"
      ]
     },
     "execution_count": 15,
     "metadata": {},
     "output_type": "execute_result"
    }
   ],
   "source": [
    "all_messages[0]"
   ]
  },
  {
   "cell_type": "code",
   "execution_count": 16,
   "metadata": {},
   "outputs": [
    {
     "data": {
      "text/plain": [
       "DirectMessage(_api=<tweepy.api.API object at 0x7f49dd015278>, _json={'type': 'message_create', 'id': '1282391538702733316', 'created_timestamp': '1594580943166', 'message_create': {'target': {'recipient_id': '1234788665341161473'}, 'sender_id': '1234788665341161473', 'source_app_id': '18336759', 'message_data': {'text': 'Hello! I am the teacher bot and I want to help you master data science. What do you want to do?', 'entities': {'hashtags': [], 'symbols': [], 'user_mentions': [], 'urls': []}}}}, type='message_create', id='1282391538702733316', created_timestamp='1594580943166', message_create={'target': {'recipient_id': '1234788665341161473'}, 'sender_id': '1234788665341161473', 'source_app_id': '18336759', 'message_data': {'text': 'Hello! I am the teacher bot and I want to help you master data science. What do you want to do?', 'entities': {'hashtags': [], 'symbols': [], 'user_mentions': [], 'urls': []}}})"
      ]
     },
     "execution_count": 16,
     "metadata": {},
     "output_type": "execute_result"
    }
   ],
   "source": [
    "all_messages[1]"
   ]
  },
  {
   "cell_type": "code",
   "execution_count": 19,
   "metadata": {},
   "outputs": [
    {
     "data": {
      "text/plain": [
       "{'type': 'message_create',\n",
       " 'id': '1282424332904468485',\n",
       " 'created_timestamp': '1594588761913',\n",
       " 'message_create': {'target': {'recipient_id': '1234788665341161473'},\n",
       "  'sender_id': '56980092',\n",
       "  'message_data': {'text': 'Hello there!',\n",
       "   'entities': {'hashtags': [],\n",
       "    'symbols': [],\n",
       "    'user_mentions': [],\n",
       "    'urls': []}}}}"
      ]
     },
     "execution_count": 19,
     "metadata": {},
     "output_type": "execute_result"
    }
   ],
   "source": [
    "all_messages[0]._json"
   ]
  },
  {
   "cell_type": "code",
   "execution_count": 20,
   "metadata": {},
   "outputs": [
    {
     "data": {
      "text/plain": [
       "{'target': {'recipient_id': '1234788665341161473'},\n",
       " 'sender_id': '56980092',\n",
       " 'message_data': {'text': 'Hello there!',\n",
       "  'entities': {'hashtags': [],\n",
       "   'symbols': [],\n",
       "   'user_mentions': [],\n",
       "   'urls': []}}}"
      ]
     },
     "execution_count": 20,
     "metadata": {},
     "output_type": "execute_result"
    }
   ],
   "source": [
    "all_messages[0].message_create"
   ]
  },
  {
   "cell_type": "code",
   "execution_count": 23,
   "metadata": {},
   "outputs": [
    {
     "data": {
      "text/plain": [
       "[DirectMessage(_api=<tweepy.api.API object at 0x7f49dd015278>, _json={'type': 'message_create', 'id': '1282424754679566340', 'created_timestamp': '1594588862472', 'message_create': {'target': {'recipient_id': '1234788665341161473'}, 'sender_id': '1234788665341161473', 'source_app_id': '3033300', 'message_data': {'text': 'Hello there!', 'entities': {'hashtags': [], 'symbols': [], 'user_mentions': [], 'urls': []}}}}, type='message_create', id='1282424754679566340', created_timestamp='1594588862472', message_create={'target': {'recipient_id': '1234788665341161473'}, 'sender_id': '1234788665341161473', 'source_app_id': '3033300', 'message_data': {'text': 'Hello there!', 'entities': {'hashtags': [], 'symbols': [], 'user_mentions': [], 'urls': []}}}),\n",
       " DirectMessage(_api=<tweepy.api.API object at 0x7f49dd015278>, _json={'type': 'message_create', 'id': '1282424332904468485', 'created_timestamp': '1594588761913', 'message_create': {'target': {'recipient_id': '1234788665341161473'}, 'sender_id': '56980092', 'message_data': {'text': 'Hello there!', 'entities': {'hashtags': [], 'symbols': [], 'user_mentions': [], 'urls': []}}}}, type='message_create', id='1282424332904468485', created_timestamp='1594588761913', message_create={'target': {'recipient_id': '1234788665341161473'}, 'sender_id': '56980092', 'message_data': {'text': 'Hello there!', 'entities': {'hashtags': [], 'symbols': [], 'user_mentions': [], 'urls': []}}}),\n",
       " DirectMessage(_api=<tweepy.api.API object at 0x7f49dd015278>, _json={'type': 'message_create', 'id': '1282391538702733316', 'created_timestamp': '1594580943166', 'message_create': {'target': {'recipient_id': '1234788665341161473'}, 'sender_id': '1234788665341161473', 'source_app_id': '18336759', 'message_data': {'text': 'Hello! I am the teacher bot and I want to help you master data science. What do you want to do?', 'entities': {'hashtags': [], 'symbols': [], 'user_mentions': [], 'urls': []}}}}, type='message_create', id='1282391538702733316', created_timestamp='1594580943166', message_create={'target': {'recipient_id': '1234788665341161473'}, 'sender_id': '1234788665341161473', 'source_app_id': '18336759', 'message_data': {'text': 'Hello! I am the teacher bot and I want to help you master data science. What do you want to do?', 'entities': {'hashtags': [], 'symbols': [], 'user_mentions': [], 'urls': []}}})]"
      ]
     },
     "execution_count": 23,
     "metadata": {},
     "output_type": "execute_result"
    }
   ],
   "source": [
    "all_messages"
   ]
  },
  {
   "cell_type": "code",
   "execution_count": 17,
   "metadata": {},
   "outputs": [
    {
     "data": {
      "text/plain": [
       "1234788665341161473"
      ]
     },
     "execution_count": 17,
     "metadata": {},
     "output_type": "execute_result"
    }
   ],
   "source": [
    "api.me().id"
   ]
  },
  {
   "cell_type": "code",
   "execution_count": null,
   "metadata": {},
   "outputs": [],
   "source": []
  },
  {
   "cell_type": "code",
   "execution_count": null,
   "metadata": {},
   "outputs": [],
   "source": []
  },
  {
   "cell_type": "code",
   "execution_count": null,
   "metadata": {},
   "outputs": [],
   "source": []
  },
  {
   "cell_type": "code",
   "execution_count": 21,
   "metadata": {},
   "outputs": [],
   "source": [
    "all_messages = api.list_direct_messages()"
   ]
  },
  {
   "cell_type": "code",
   "execution_count": 22,
   "metadata": {},
   "outputs": [
    {
     "data": {
      "text/plain": [
       "[DirectMessage(_api=<tweepy.api.API object at 0x7f8232230a90>, _json={'type': 'message_create', 'id': '1283090678407405573', 'created_timestamp': '1594747631061', 'message_create': {'target': {'recipient_id': '1234788665341161473'}, 'sender_id': '56980092', 'message_data': {'text': 'blaaaaaaaaaaaaaaaaaaaaaaaaaaaaaaaaaaaaaa', 'entities': {'hashtags': [], 'symbols': [], 'user_mentions': [], 'urls': []}}}}, type='message_create', id='1283090678407405573', created_timestamp='1594747631061', message_create={'target': {'recipient_id': '1234788665341161473'}, 'sender_id': '56980092', 'message_data': {'text': 'blaaaaaaaaaaaaaaaaaaaaaaaaaaaaaaaaaaaaaa', 'entities': {'hashtags': [], 'symbols': [], 'user_mentions': [], 'urls': []}}}),\n",
       " DirectMessage(_api=<tweepy.api.API object at 0x7f8232230a90>, _json={'type': 'message_create', 'id': '1283090248428392453', 'created_timestamp': '1594747528546', 'message_create': {'target': {'recipient_id': '56980092'}, 'sender_id': '1234788665341161473', 'source_app_id': '18336759', 'message_data': {'text': 'new test', 'entities': {'hashtags': [], 'symbols': [], 'user_mentions': [], 'urls': []}}}}, type='message_create', id='1283090248428392453', created_timestamp='1594747528546', message_create={'target': {'recipient_id': '56980092'}, 'sender_id': '1234788665341161473', 'source_app_id': '18336759', 'message_data': {'text': 'new test', 'entities': {'hashtags': [], 'symbols': [], 'user_mentions': [], 'urls': []}}}),\n",
       " DirectMessage(_api=<tweepy.api.API object at 0x7f8232230a90>, _json={'type': 'message_create', 'id': '1283089674991472644', 'created_timestamp': '1594747391828', 'message_create': {'target': {'recipient_id': '1234788665341161473'}, 'sender_id': '56980092', 'message_data': {'text': 'new test', 'entities': {'hashtags': [], 'symbols': [], 'user_mentions': [], 'urls': []}}}}, type='message_create', id='1283089674991472644', created_timestamp='1594747391828', message_create={'target': {'recipient_id': '1234788665341161473'}, 'sender_id': '56980092', 'message_data': {'text': 'new test', 'entities': {'hashtags': [], 'symbols': [], 'user_mentions': [], 'urls': []}}}),\n",
       " DirectMessage(_api=<tweepy.api.API object at 0x7f8232230a90>, _json={'type': 'message_create', 'id': '1283089526945177604', 'created_timestamp': '1594747356531', 'message_create': {'target': {'recipient_id': '1234788665341161473'}, 'sender_id': '1234788665341161473', 'source_app_id': '18336759', 'message_data': {'text': 'test', 'entities': {'hashtags': [], 'symbols': [], 'user_mentions': [], 'urls': []}}}}, type='message_create', id='1283089526945177604', created_timestamp='1594747356531', message_create={'target': {'recipient_id': '1234788665341161473'}, 'sender_id': '1234788665341161473', 'source_app_id': '18336759', 'message_data': {'text': 'test', 'entities': {'hashtags': [], 'symbols': [], 'user_mentions': [], 'urls': []}}}),\n",
       " DirectMessage(_api=<tweepy.api.API object at 0x7f8232230a90>, _json={'type': 'message_create', 'id': '1283088906708295686', 'created_timestamp': '1594747208655', 'message_create': {'target': {'recipient_id': '1234788665341161473'}, 'sender_id': '1234788665341161473', 'source_app_id': '18336759', 'message_data': {'text': 'Hello! I am the teacher bot and I want to help you master data science. What do you want to do?', 'entities': {'hashtags': [], 'symbols': [], 'user_mentions': [], 'urls': []}}}}, type='message_create', id='1283088906708295686', created_timestamp='1594747208655', message_create={'target': {'recipient_id': '1234788665341161473'}, 'sender_id': '1234788665341161473', 'source_app_id': '18336759', 'message_data': {'text': 'Hello! I am the teacher bot and I want to help you master data science. What do you want to do?', 'entities': {'hashtags': [], 'symbols': [], 'user_mentions': [], 'urls': []}}}),\n",
       " DirectMessage(_api=<tweepy.api.API object at 0x7f8232230a90>, _json={'type': 'message_create', 'id': '1283088059102375945', 'created_timestamp': '1594747006570', 'message_create': {'target': {'recipient_id': '1234788665341161473'}, 'sender_id': '1234788665341161473', 'source_app_id': '18336759', 'message_data': {'text': 'Hello! I am the teacher bot and I want to help you master data science. What do you want to do?', 'entities': {'hashtags': [], 'symbols': [], 'user_mentions': [], 'urls': []}}}}, type='message_create', id='1283088059102375945', created_timestamp='1594747006570', message_create={'target': {'recipient_id': '1234788665341161473'}, 'sender_id': '1234788665341161473', 'source_app_id': '18336759', 'message_data': {'text': 'Hello! I am the teacher bot and I want to help you master data science. What do you want to do?', 'entities': {'hashtags': [], 'symbols': [], 'user_mentions': [], 'urls': []}}}),\n",
       " DirectMessage(_api=<tweepy.api.API object at 0x7f8232230a90>, _json={'type': 'message_create', 'id': '1283087596269297678', 'created_timestamp': '1594746896222', 'message_create': {'target': {'recipient_id': '56980092'}, 'sender_id': '1234788665341161473', 'source_app_id': '18336759', 'message_data': {'text': 'Hello! I am the teacher bot and I want to help you master data science. What do you want to do?', 'entities': {'hashtags': [], 'symbols': [], 'user_mentions': [], 'urls': []}}}}, type='message_create', id='1283087596269297678', created_timestamp='1594746896222', message_create={'target': {'recipient_id': '56980092'}, 'sender_id': '1234788665341161473', 'source_app_id': '18336759', 'message_data': {'text': 'Hello! I am the teacher bot and I want to help you master data science. What do you want to do?', 'entities': {'hashtags': [], 'symbols': [], 'user_mentions': [], 'urls': []}}})]"
      ]
     },
     "execution_count": 22,
     "metadata": {},
     "output_type": "execute_result"
    }
   ],
   "source": [
    "all_messages"
   ]
  },
  {
   "cell_type": "code",
   "execution_count": 23,
   "metadata": {},
   "outputs": [
    {
     "data": {
      "text/plain": [
       "7"
      ]
     },
     "execution_count": 23,
     "metadata": {},
     "output_type": "execute_result"
    }
   ],
   "source": [
    "len(all_messages)"
   ]
  },
  {
   "cell_type": "code",
   "execution_count": 7,
   "metadata": {},
   "outputs": [],
   "source": [
    "response = api.send_direct_message(1234788665341161473, 'test')"
   ]
  },
  {
   "cell_type": "code",
   "execution_count": 25,
   "metadata": {},
   "outputs": [],
   "source": [
    "response = api.send_direct_message(56980092, 'dogdog')"
   ]
  },
  {
   "cell_type": "code",
   "execution_count": 16,
   "metadata": {},
   "outputs": [
    {
     "data": {
      "text/plain": [
       "DirectMessage(_api=<tweepy.api.API object at 0x7f8232230a90>, _json={'type': 'message_create', 'id': '1283090248428392453', 'created_timestamp': '1594747528546', 'message_create': {'target': {'recipient_id': '56980092'}, 'sender_id': '1234788665341161473', 'message_data': {'text': 'new test', 'entities': {'hashtags': [], 'symbols': [], 'user_mentions': [], 'urls': []}}}}, type='message_create', id='1283090248428392453', created_timestamp='1594747528546', message_create={'target': {'recipient_id': '56980092'}, 'sender_id': '1234788665341161473', 'message_data': {'text': 'new test', 'entities': {'hashtags': [], 'symbols': [], 'user_mentions': [], 'urls': []}}})"
      ]
     },
     "execution_count": 16,
     "metadata": {},
     "output_type": "execute_result"
    }
   ],
   "source": [
    "response"
   ]
  },
  {
   "cell_type": "code",
   "execution_count": null,
   "metadata": {},
   "outputs": [],
   "source": []
  }
 ],
 "metadata": {
  "kernelspec": {
   "display_name": "Python 3",
   "language": "python",
   "name": "python3"
  },
  "language_info": {
   "codemirror_mode": {
    "name": "ipython",
    "version": 3
   },
   "file_extension": ".py",
   "mimetype": "text/x-python",
   "name": "python",
   "nbconvert_exporter": "python",
   "pygments_lexer": "ipython3",
   "version": "3.6.10"
  }
 },
 "nbformat": 4,
 "nbformat_minor": 4
}
